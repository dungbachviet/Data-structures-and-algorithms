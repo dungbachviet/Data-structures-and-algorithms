{
 "cells": [
  {
   "cell_type": "code",
   "execution_count": 10,
   "metadata": {},
   "outputs": [
    {
     "name": "stdout",
     "output_type": "stream",
     "text": [
      "[[ 0  1  2  3  4]\n",
      " [ 5  6  7  8  9]\n",
      " [10 11 12 13 14]]\n"
     ]
    }
   ],
   "source": [
    "a = np.arange(15).reshape(3, 5)\n",
    "print(a)"
   ]
  },
  {
   "cell_type": "markdown",
   "metadata": {},
   "source": [
    "- Quadratic Probing (Thăm dò Quadratic) : Ra đời để giải quyết hiện tượng \"clustering\" trong phương pháp Linear Probing. Ý tưởng là : Thay vì cứ kiểm tra lần lượt từng ô (bắt đầu từ ô hash(x)) thì ta sẽ kiểm tra một cách ngắt quãng tức theo công thức i * i (là kiểm tra tại các ô hash(x), rồi hash(x) + 1 /* 1, rồi hash(x) + 2 /* 2,... cứ như vậy có tới khi tìm thấy ô trống để có thể điền key mới vào)"
   ]
  },
  {
   "cell_type": "code",
   "execution_count": null,
   "metadata": {},
   "outputs": [],
   "source": []
  }
 ],
 "metadata": {
  "kernelspec": {
   "display_name": "Python 3",
   "language": "python",
   "name": "python3"
  },
  "language_info": {
   "codemirror_mode": {
    "name": "ipython",
    "version": 3
   },
   "file_extension": ".py",
   "mimetype": "text/x-python",
   "name": "python",
   "nbconvert_exporter": "python",
   "pygments_lexer": "ipython3",
   "version": "3.6.4"
  }
 },
 "nbformat": 4,
 "nbformat_minor": 2
}
